{
  "nbformat": 4,
  "nbformat_minor": 0,
  "metadata": {
    "colab": {
      "provenance": [],
      "authorship_tag": "ABX9TyN3fOag3CwRWr9XIdtd55IN",
      "include_colab_link": true
    },
    "kernelspec": {
      "name": "python3",
      "display_name": "Python 3"
    },
    "language_info": {
      "name": "python"
    }
  },
  "cells": [
    {
      "cell_type": "markdown",
      "metadata": {
        "id": "view-in-github",
        "colab_type": "text"
      },
      "source": [
        "<a href=\"https://colab.research.google.com/github/hari4230/hari4230/blob/main/experiment1.ipynb\" target=\"_parent\"><img src=\"https://colab.research.google.com/assets/colab-badge.svg\" alt=\"Open In Colab\"/></a>"
      ]
    },
    {
      "cell_type": "code",
      "source": [
        "import pandas as pd\n",
        "import numpy as np\n",
        "\n",
        "\n",
        "data = pd.read_csv('/content/HARI1.csv')\n",
        "\n",
        "concepts = np.array(data)[:,:-1]\n",
        "target = np.array(data)[:,-1]\n",
        "\n",
        "print(\"\\nConcepts:\")\n",
        "print(concepts)\n",
        "\n",
        "print(\"\\nTarget:\")\n",
        "print(target)\n",
        "\n",
        "\n",
        "def train(con, tar):\n",
        "\n",
        "    for i, val in enumerate(tar):\n",
        "        if val == 'yes':\n",
        "            specific_h = con[i].copy()\n",
        "            print(f\"\\nInitial hypothesis from first positive example: {specific_h}\")\n",
        "            break\n",
        "\n",
        "    for i, val in enumerate(con):\n",
        "        if tar[i] == 'yes':\n",
        "            for x in range(len(specific_h)):\n",
        "                if val[x] != specific_h[x]:\n",
        "                    specific_h[x] = '?'\n",
        "            print(f\"\\nHypothesis after example {i+1}: {specific_h}\")\n",
        "    return specific_h\n",
        "\n",
        "\n",
        "specific_hypothesis = train(concepts, target)\n",
        "\n",
        "\n",
        "print(\"\\nThe most specific hypothesis is:\", specific_hypothesis)"
      ],
      "metadata": {
        "colab": {
          "base_uri": "https://localhost:8080/"
        },
        "id": "mbGLyQIH_pK4",
        "outputId": "dd2e2bc1-8d1a-4d01-981f-d97a0d8b5a69"
      },
      "execution_count": 5,
      "outputs": [
        {
          "output_type": "stream",
          "name": "stdout",
          "text": [
            "\n",
            "Concepts:\n",
            "[['sky' 'air temp' 'humidity' 'wind' 'water' 'forecast']\n",
            " ['sunny' 'warm' 'normal' 'strong' 'warm' 'same']\n",
            " ['sunny' 'warm' 'high' 'strong' 'warm' 'same']\n",
            " ['rainy' 'cold' 'high' 'strong' 'warm' 'change']\n",
            " ['sunny' 'warm' 'high' 'strong' 'cool' 'change']]\n",
            "\n",
            "Target:\n",
            "['enjoy sport' 'yes' 'yes' 'no' 'yes']\n",
            "\n",
            "Initial hypothesis from first positive example: ['sunny' 'warm' 'normal' 'strong' 'warm' 'same']\n",
            "\n",
            "Hypothesis after example 2: ['sunny' 'warm' 'normal' 'strong' 'warm' 'same']\n",
            "\n",
            "Hypothesis after example 3: ['sunny' 'warm' '?' 'strong' 'warm' 'same']\n",
            "\n",
            "Hypothesis after example 5: ['sunny' 'warm' '?' 'strong' '?' '?']\n",
            "\n",
            "The most specific hypothesis is: ['sunny' 'warm' '?' 'strong' '?' '?']\n"
          ]
        }
      ]
    }
  ]
}